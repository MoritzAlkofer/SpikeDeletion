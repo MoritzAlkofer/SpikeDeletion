{
 "cells": [
  {
   "cell_type": "code",
   "execution_count": 1,
   "metadata": {},
   "outputs": [],
   "source": [
    "import matplotlib.pyplot as plt\n",
    "import pandas as pd\n",
    "import numpy as np\n",
    "import sys\n",
    "sys.path.append('/home/moritz/Desktop/programming/viewer')\n",
    "from viewer.viewer_src import *\n",
    "from utils.montages import full_bipolar_montage"
   ]
  },
  {
   "cell_type": "code",
   "execution_count": 57,
   "metadata": {},
   "outputs": [],
   "source": [
    "def get_sample2(df,target):\n",
    "    # Calculate absolute difference between col1 and target \n",
    "    diff = (df['preds'] - target).abs()\n",
    "    # Find index of minimum difference \n",
    "    idx = diff.idxmin()\n",
    "    # Get row for minimum difference \n",
    "    row = df.loc[idx]\n",
    "    return row"
   ]
  },
  {
   "cell_type": "code",
   "execution_count": 58,
   "metadata": {},
   "outputs": [],
   "source": [
    "def get_sample(df,low,high,n):\n",
    "    return df[(df.preds>low)&(df.preds<=high)].iloc[0:n]"
   ]
  },
  {
   "cell_type": "code",
   "execution_count": 59,
   "metadata": {},
   "outputs": [],
   "source": [
    "def get_samples(df,n):\n",
    "    samples = []\n",
    "    for target in np.arange(0,1.001,1/n):\n",
    "        sample = get_sample2(df,target)\n",
    "        samples.append(sample)\n",
    "    df = pd.DataFrame(samples)\n",
    "    df.reset_index(inplace=True,drop=True)\n",
    "    return df"
   ]
  },
  {
   "cell_type": "code",
   "execution_count": 60,
   "metadata": {},
   "outputs": [],
   "source": [
    "def load_and_cut_signal(path_signal,start,end,Fq):\n",
    "    signal = np.load(path_signal)\n",
    "    signal=signal[:,start*Fq:end*Fq]\n",
    "    return signal"
   ]
  },
  {
   "cell_type": "code",
   "execution_count": 61,
   "metadata": {},
   "outputs": [],
   "source": [
    "def filter_spikes(label,df):\n",
    "    positive = df.Spike ==1\n",
    "    negative = df.Spike == 0\n",
    "    if label =='positive':\n",
    "        df = df[positive].sort_values('preds',ascending=False)\n",
    "    elif label =='negative':\n",
    "        df = df[negative].sort_values('preds',ascending=False)\n",
    "    return df"
   ]
  },
  {
   "cell_type": "code",
   "execution_count": 62,
   "metadata": {},
   "outputs": [],
   "source": [
    "def build_viewer_module(ax,montage_module,x_start,x_end,Fq):\n",
    "    y_labels=montage_module.montages[0].y_labels\n",
    "    y_locations=montage_module.montages[0].y_locations\n",
    "    viewer_module = init_viewer_module(ax,y_locations,y_labels,x_start=x_start,x_end=x_end,Fq=Fq)\n",
    "    return viewer_module"
   ]
  },
  {
   "cell_type": "code",
   "execution_count": 63,
   "metadata": {},
   "outputs": [],
   "source": [
    "def add_signal(path_signal,viewer_modules,montage_module,start,end,Fq):\n",
    "    signal = load_and_cut_signal(path_signal,start,end,Fq)\n",
    "    signal = montage_module.montages[0](signal)\n",
    "    update_channels_with_signal(signal=signal,channel_lines=viewer_modules[i].channel_lines,y_locations=viewer_modules[i].y_locations) \n"
   ]
  },
  {
   "cell_type": "code",
   "execution_count": 64,
   "metadata": {},
   "outputs": [],
   "source": [
    "def process_ticks_and_title(ax,i,title):\n",
    "    if i !=0:\n",
    "        ax.set_yticks([])\n",
    "    ax.set_xticks([0,1,2,3])\n",
    "    ax.set_xlabel('time [s]')\n",
    "    ax.set_title(title)\n",
    "    return ax"
   ]
  },
  {
   "cell_type": "code",
   "execution_count": 65,
   "metadata": {},
   "outputs": [],
   "source": [
    "def init_info(label,n,df):\n",
    "    sub_df = get_samples(df,n)\n",
    "    path_files = '/media/moritz/Expansion/Data/Spikes_clemson_10s/preprocessed_npy/'\n",
    "    path_signals=list(path_files + sub_df.event_file+'.npy')\n",
    "    titles = list(sub_df.preds.round(2).astype(str))\n",
    "    subtitles = list(sub_df.event_file)\n",
    "    Fq = 128\n",
    "    return path_signals, titles, subtitles,Fq"
   ]
  },
  {
   "cell_type": "code",
   "execution_count": 66,
   "metadata": {},
   "outputs": [
    {
     "ename": "TypeError",
     "evalue": "'NoneType' object is not subscriptable",
     "output_type": "error",
     "traceback": [
      "\u001b[0;31m---------------------------------------------------------------------------\u001b[0m",
      "\u001b[0;31mTypeError\u001b[0m                                 Traceback (most recent call last)",
      "Cell \u001b[0;32mIn[66], line 11\u001b[0m\n\u001b[1;32m      9\u001b[0m \u001b[38;5;66;03m# init info \u001b[39;00m\n\u001b[1;32m     10\u001b[0m df \u001b[38;5;241m=\u001b[39m filter_spikes(sample_type,df)\n\u001b[0;32m---> 11\u001b[0m path_signals, titles, subtitles,Fq \u001b[38;5;241m=\u001b[39m \u001b[43minit_info\u001b[49m\u001b[43m(\u001b[49m\u001b[43msample_type\u001b[49m\u001b[43m,\u001b[49m\u001b[43mn\u001b[49m\u001b[38;5;241;43m=\u001b[39;49m\u001b[43mn\u001b[49m\u001b[43m,\u001b[49m\u001b[43mdf\u001b[49m\u001b[38;5;241;43m=\u001b[39;49m\u001b[43mdf\u001b[49m\u001b[43m)\u001b[49m\n\u001b[1;32m     12\u001b[0m \u001b[38;5;66;03m# init figurea\u001b[39;00m\n\u001b[1;32m     13\u001b[0m fig, axs \u001b[38;5;241m=\u001b[39m plt\u001b[38;5;241m.\u001b[39msubplots(\u001b[38;5;241m1\u001b[39m,n\u001b[38;5;241m+\u001b[39m\u001b[38;5;241m1\u001b[39m,figsize \u001b[38;5;241m=\u001b[39m (\u001b[38;5;241m20\u001b[39m,\u001b[38;5;241m5\u001b[39m))\n",
      "Cell \u001b[0;32mIn[65], line 2\u001b[0m, in \u001b[0;36minit_info\u001b[0;34m(label, n, df)\u001b[0m\n\u001b[1;32m      1\u001b[0m \u001b[38;5;28;01mdef\u001b[39;00m \u001b[38;5;21minit_info\u001b[39m(label,n,df):\n\u001b[0;32m----> 2\u001b[0m     sub_df \u001b[38;5;241m=\u001b[39m \u001b[43mget_samples\u001b[49m\u001b[43m(\u001b[49m\u001b[43mdf\u001b[49m\u001b[43m,\u001b[49m\u001b[43mn\u001b[49m\u001b[43m)\u001b[49m\n\u001b[1;32m      3\u001b[0m     path_files \u001b[38;5;241m=\u001b[39m \u001b[38;5;124m'\u001b[39m\u001b[38;5;124m/media/moritz/Expansion/Data/Spikes_clemson_10s/preprocessed_npy/\u001b[39m\u001b[38;5;124m'\u001b[39m\n\u001b[1;32m      4\u001b[0m     path_signals\u001b[38;5;241m=\u001b[39m\u001b[38;5;28mlist\u001b[39m(path_files \u001b[38;5;241m+\u001b[39m sub_df\u001b[38;5;241m.\u001b[39mevent_file\u001b[38;5;241m+\u001b[39m\u001b[38;5;124m'\u001b[39m\u001b[38;5;124m.npy\u001b[39m\u001b[38;5;124m'\u001b[39m)\n",
      "Cell \u001b[0;32mIn[59], line 4\u001b[0m, in \u001b[0;36mget_samples\u001b[0;34m(df, n)\u001b[0m\n\u001b[1;32m      2\u001b[0m samples \u001b[38;5;241m=\u001b[39m []\n\u001b[1;32m      3\u001b[0m \u001b[38;5;28;01mfor\u001b[39;00m target \u001b[38;5;129;01min\u001b[39;00m np\u001b[38;5;241m.\u001b[39marange(\u001b[38;5;241m0\u001b[39m,\u001b[38;5;241m1.001\u001b[39m,\u001b[38;5;241m1\u001b[39m\u001b[38;5;241m/\u001b[39mn):\n\u001b[0;32m----> 4\u001b[0m     sample \u001b[38;5;241m=\u001b[39m \u001b[43mget_sample2\u001b[49m\u001b[43m(\u001b[49m\u001b[43mdf\u001b[49m\u001b[43m,\u001b[49m\u001b[43mtarget\u001b[49m\u001b[43m)\u001b[49m\n\u001b[1;32m      5\u001b[0m     samples\u001b[38;5;241m.\u001b[39mappend(sample)\n\u001b[1;32m      6\u001b[0m df \u001b[38;5;241m=\u001b[39m pd\u001b[38;5;241m.\u001b[39mDataFrame(samples)\n",
      "Cell \u001b[0;32mIn[57], line 3\u001b[0m, in \u001b[0;36mget_sample2\u001b[0;34m(df, target)\u001b[0m\n\u001b[1;32m      1\u001b[0m \u001b[38;5;28;01mdef\u001b[39;00m \u001b[38;5;21mget_sample2\u001b[39m(df,target):\n\u001b[1;32m      2\u001b[0m     \u001b[38;5;66;03m# Calculate absolute difference between col1 and target \u001b[39;00m\n\u001b[0;32m----> 3\u001b[0m     diff \u001b[38;5;241m=\u001b[39m (\u001b[43mdf\u001b[49m\u001b[43m[\u001b[49m\u001b[38;5;124;43m'\u001b[39;49m\u001b[38;5;124;43mpreds\u001b[39;49m\u001b[38;5;124;43m'\u001b[39;49m\u001b[43m]\u001b[49m \u001b[38;5;241m-\u001b[39m target)\u001b[38;5;241m.\u001b[39mabs()\n\u001b[1;32m      4\u001b[0m     \u001b[38;5;66;03m# Find index of minimum difference \u001b[39;00m\n\u001b[1;32m      5\u001b[0m     idx \u001b[38;5;241m=\u001b[39m diff\u001b[38;5;241m.\u001b[39midxmin()\n",
      "\u001b[0;31mTypeError\u001b[0m: 'NoneType' object is not subscriptable"
     ]
    }
   ],
   "source": [
    "n = 20\n",
    "x_start,x_end = 0,3\n",
    "signal_start,signal_end = 6,9\n",
    "df = pd.read_csv('../../Models/generalized_all_ref_loc/results_localized_Clemson.csv')\n",
    "df_loc = pd.read_excel('/media/moritz/Expansion/Data/Spikes_clemson_10s/tables/segments_labels_channels_montage.xlsx')\n",
    "df = df.merge(df_loc[['event_file','Spike']])\n",
    "df = df[df.ChannelLocation=='general']\n",
    "sample_type = 'positive'\n",
    "# init info \n",
    "df = filter_spikes(sample_type,df)\n",
    "path_signals, titles, subtitles,Fq = init_info(sample_type,n=n,df=df)\n",
    "# init figurea\n",
    "fig, axs = plt.subplots(1,n+1,figsize = (20,5))\n",
    "# init montage and viewer\n",
    "montage_module = init_montage_module(montages= [full_bipolar_montage])\n",
    "viewer_modules = []\n",
    "# create figure\n",
    "for i in range(n+1):\n",
    "    viewer_module = build_viewer_module(axs[i],montage_module,x_start=x_start,x_end=x_end,Fq=Fq)\n",
    "    viewer_modules.append(viewer_module)\n",
    "    add_signal(path_signals[i],viewer_modules,montage_module,signal_start,signal_end,Fq)\n",
    "    process_ticks_and_title(axs[i],i,titles[i])\n",
    "fig.tight_layout()\n",
    "fig.savefig(f'{sample_type}.png')"
   ]
  },
  {
   "cell_type": "code",
   "execution_count": 67,
   "metadata": {},
   "outputs": [],
   "source": [
    "df"
   ]
  },
  {
   "cell_type": "code",
   "execution_count": null,
   "metadata": {},
   "outputs": [],
   "source": []
  },
  {
   "cell_type": "code",
   "execution_count": null,
   "metadata": {},
   "outputs": [],
   "source": []
  },
  {
   "cell_type": "code",
   "execution_count": null,
   "metadata": {},
   "outputs": [],
   "source": []
  }
 ],
 "metadata": {
  "kernelspec": {
   "display_name": "venv",
   "language": "python",
   "name": "python3"
  },
  "language_info": {
   "codemirror_mode": {
    "name": "ipython",
    "version": 3
   },
   "file_extension": ".py",
   "mimetype": "text/x-python",
   "name": "python",
   "nbconvert_exporter": "python",
   "pygments_lexer": "ipython3",
   "version": "3.10.12"
  }
 },
 "nbformat": 4,
 "nbformat_minor": 2
}
